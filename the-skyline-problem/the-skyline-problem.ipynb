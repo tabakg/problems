{
 "cells": [
  {
   "cell_type": "markdown",
   "metadata": {},
   "source": [
    "# The Skyline Problem\n",
    "\n",
    "Given n rectangular buildings in a 2-dimensional city, compute the skyline of these buildings, eliminating hidden lines. The main task is to view buildings from a side and remove all sections that are not visible.\n",
    "\n",
    "All buildings share common bottom and every building is represented by triplet (left, ht, right)\n",
    "\n",
    " - 'left': is x coordinated of left side (or wall).\n",
    " - 'right': is x coordinate of right side\n",
    " - 'ht': is height of building.\n",
    "\n",
    "A skyline is a collection of rectangular strips. A rectangular strip is represented as a pair (left, ht) where left is x coordinate of left side of strip and ht is height of strip.\n",
    "\n",
    "```\n",
    "buildings = [(1,11,5), (2,6,7), (3,13,9), (12,7,16), (14,3,25),\n",
    "            (19,18,22), (23,13,29), (24,4,28) ]\n",
    "```\n",
    "\n",
    "## Assumptions\n",
    "\n",
    " - the building list isn't ordered in any particular way\n",
    "\n",
    "\n",
    "I think it would be a lot easier if we can put the buildings in a defined space first."
   ]
  },
  {
   "cell_type": "markdown",
   "metadata": {},
   "source": [
    "## Strategy\n",
    "\n",
    "I'm far too stupid to be able to do this using just edges. On the other hand, I know that indexing into numpy arrays is an operation that someone else (much smarter than I) has optimized. So for my strategy instead of comparing edges and heights I'm going to:\n",
    "\n",
    " - find the outer bounds of the image\n",
    " - fill in all buildings with indexing across the image\n",
    " - for each column, use the sum to determine the height"
   ]
  },
  {
   "cell_type": "code",
   "execution_count": 60,
   "metadata": {
    "collapsed": false
   },
   "outputs": [],
   "source": [
    "# Dependencies\n",
    "\n",
    "import numpy\n",
    "import seaborn as sns\n",
    "import matplotlib.pyplot as plt\n",
    "%matplotlib inline\n",
    "\n",
    "# Define buildings\n",
    "        \n",
    "buildings = [(1,11,5), (2,6,7), (3,13,9), (12,7,16), (14,3,25),\n",
    "            (19,18,22), (23,13,29), (24,4,28) ]\n",
    "\n",
    "# We need to shift the entire skyline by the left\n",
    "left = min([x[0] for x in buildings])\n",
    "height = max([x[1] for x in buildings])\n",
    "right = max([x[2] for x in buildings])\n",
    "\n",
    "# Skyline is going to be a 2D image, height--> # rows, width --> columns\n",
    "skyline = numpy.zeros(shape=(height, right+1))"
   ]
  },
  {
   "cell_type": "code",
   "execution_count": 61,
   "metadata": {
    "collapsed": false
   },
   "outputs": [
    {
     "data": {
      "image/png": "[encoded data removed]",
      "text/plain": [
       "<matplotlib.figure.Figure at 0x7fa01df31ba8>"
      ]
     },
     "metadata": {},
     "output_type": "display_data"
    }
   ],
   "source": [
    "for building in buildings:\n",
    "\n",
    "    # Raw values are not relative to origin\n",
    "    left_x, height_a, right_x = building\n",
    "    skyline[0:height_a,left_x:right_x] = 1\n",
    "\n",
    "plt.matshow(skyline)\n",
    "ax = plt.gca()\n",
    "ax.invert_yaxis()\n",
    "plt.show()"
   ]
  },
  {
   "cell_type": "markdown",
   "metadata": {},
   "source": [
    "## What are the lines?\n",
    "\n",
    "Now we want to answer the question and give a list or coordinates for the edges that we see above. Since we subtracted the left from each line, we will add it back in order to restore our original space."
   ]
  },
  {
   "cell_type": "code",
   "execution_count": 62,
   "metadata": {
    "collapsed": false
   },
   "outputs": [],
   "source": [
    "lines = []\n",
    "last_height = 0\n",
    "\n",
    "for c in range(skyline.shape[1]):\n",
    "    col = skyline[:,c]\n",
    "    \n",
    "    # If the sum is 0, it's empty space\n",
    "    height = sum(col)\n",
    "    \n",
    "    if height != last_height:\n",
    "        # We only need to add the coordinate if it's a different height\n",
    "        lines.append((c, height))\n",
    "        last_height = height"
   ]
  },
  {
   "cell_type": "code",
   "execution_count": 63,
   "metadata": {
    "collapsed": false
   },
   "outputs": [
    {
     "data": {
      "text/plain": [
       "[(1, 11.0),\n",
       " (3, 13.0),\n",
       " (9, 0.0),\n",
       " (12, 7.0),\n",
       " (16, 3.0),\n",
       " (19, 18.0),\n",
       " (22, 3.0),\n",
       " (23, 13.0),\n",
       " (29, 0.0)]"
      ]
     },
     "execution_count": 63,
     "metadata": {},
     "output_type": "execute_result"
    }
   ],
   "source": [
    "lines"
   ]
  },
  {
   "cell_type": "markdown",
   "metadata": {},
   "source": [
    "Here is the answer given in the example, for reference:\n",
    "\n",
    "```\n",
    " Skyline for given buildings is\n",
    " (1, 11),  (3, 13),  (9, 0),  (12, 7),  (16, 3),  (19, 18), \n",
    " (22, 3),  (23, 13),  (29, 0),\n",
    " ```"
   ]
  },
  {
   "cell_type": "code",
   "execution_count": null,
   "metadata": {
    "collapsed": true
   },
   "outputs": [],
   "source": []
  }
 ],
 "metadata": {
  "anaconda-cloud": {},
  "kernelspec": {
   "display_name": "Python [conda root]",
   "language": "python",
   "name": "conda-root-py"
  },
  "language_info": {
   "codemirror_mode": {
    "name": "ipython",
    "version": 3
   },
   "file_extension": ".py",
   "mimetype": "text/x-python",
   "name": "python",
   "nbconvert_exporter": "python",
   "pygments_lexer": "ipython3",
   "version": "3.5.2"
  }
 },
 "nbformat": 4,
 "nbformat_minor": 2
}
