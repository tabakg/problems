{
 "cells": [
  {
   "cell_type": "code",
   "execution_count": 1,
   "metadata": {
    "collapsed": true
   },
   "outputs": [],
   "source": [
    "class node:\n",
    "    \"\"\"An implementation of a node, which tracks a value,\n",
    "    left and right children, anda parent.\n",
    "    \"\"\"\n",
    "    def __init__(self, v=None, l=None, r=None, p=None):\n",
    "        self.v = v\n",
    "        self.l = l\n",
    "        self.r = r\n",
    "        self.p = p\n",
    "        \n",
    "class q:\n",
    "    \"\"\"An implementation of a queue\n",
    "    \"\"\"\n",
    "    def __init__(self, v):\n",
    "        if v is not None:\n",
    "            self.first = self.last = node(v)\n",
    "        else:\n",
    "            self.first=None\n",
    "            self.last=None\n",
    "    \n",
    "    def enq(self, v):\n",
    "        \"\"\"Add an element to the end of a queue\n",
    "        \"\"\"\n",
    "        ## If the queue is empty, add a single node\n",
    "        if self.last is None:\n",
    "            self.first = self.last = node(v)\n",
    "        else:\n",
    "            ### if the queue is not empty, add a not at the end of the queue\n",
    "            old_last = self.last\n",
    "            self.last = node(v)\n",
    "            old_last.l = self.last\n",
    "    \n",
    "    def deq(self):\n",
    "        \"\"\"Remove the first element of a queue\n",
    "        \"\"\"\n",
    "        if self.first is None:\n",
    "            return None\n",
    "        elif self.first is self.last: ## in this case there is only one node\n",
    "            out = self.first\n",
    "            self.first = None\n",
    "            self.last = None\n",
    "            return out.v\n",
    "        else: ## In this case there is more than one node\n",
    "            out = self.first\n",
    "            self.first = out.l\n",
    "            return out.v"
   ]
  },
  {
   "cell_type": "code",
   "execution_count": 69,
   "metadata": {
    "collapsed": false
   },
   "outputs": [],
   "source": [
    "class tree:\n",
    "    \"\"\"Binary search tree that allows for insertion, deletion, and traversals.\n",
    "    \"\"\"\n",
    "    def __init__(self, v=None):\n",
    "        self.root = node(v=v)\n",
    "        \n",
    "    def insert(self, v, current=None):\n",
    "        \"\"\"Insert an element, always as a leaf.\n",
    "        \"\"\"\n",
    "        if current is None:\n",
    "            current = self.root\n",
    "        if current is None:\n",
    "            current = node(v=v)\n",
    "        if current.v is None:\n",
    "            current.v = v\n",
    "        elif current.v <= v:\n",
    "            if current.r is None:\n",
    "                current.r = node(v, p=current)\n",
    "                current.r.p = current\n",
    "            else:\n",
    "                self.insert(v, current.r)\n",
    "        else:\n",
    "            if current.l is None:\n",
    "                current.l = node(v, p=current)\n",
    "                current.l.p = current\n",
    "            else:\n",
    "                self.insert(v, current.l)\n",
    "                \n",
    "    def delete(self, v, current=None):\n",
    "        \"\"\"Find an node with a value and delete it.\n",
    "        \"\"\"\n",
    "        if current is None:\n",
    "            current = self.root\n",
    "        if current.v is None:\n",
    "            return\n",
    "        if current.v == v:\n",
    "            if current.l is None and current.r is None:\n",
    "                current = None\n",
    "            elif current.l is not None:\n",
    "                p = current.p\n",
    "                p.l = current.l\n",
    "                current.l.p = p\n",
    "            else:\n",
    "                p = current.p\n",
    "                p.r = current.r\n",
    "                current.r.p = p\n",
    "        if current is not None:\n",
    "            if current.v > v and current.l is not None:\n",
    "                self.delete(v, current=current.l)\n",
    "            if current.v < v and current.r is not None:\n",
    "                self.delete(v, current=current.r)\n",
    "            \n",
    "#################### Traversals ####################\n",
    "            \n",
    "    def pre_order(self, current=None):\n",
    "        \"\"\"Recursively traverse elements, in the order\n",
    "        root --> left --> right\n",
    "        \n",
    "        The same order as DFS.\n",
    "        \"\"\"\n",
    "        if current is None:\n",
    "            current = self.root\n",
    "        yield current.v\n",
    "        if current.l is not None:\n",
    "            for el in self.pre_order(current=current.l):\n",
    "                yield el\n",
    "        if current.r is not None:\n",
    "            for el in self.pre_order(current=current.r):\n",
    "                yield el\n",
    "    \n",
    "    def in_order(self, current=None):\n",
    "        \"\"\"Recursively traverse elements, in the order\n",
    "        left --> root --> right\n",
    "        \n",
    "        Should return the elements in order for a binary search tree.\n",
    "        \"\"\"\n",
    "        if current is None:\n",
    "            current = self.root\n",
    "        if current.l is not None:\n",
    "            for el in self.in_order(current=current.l):\n",
    "                yield str(el)\n",
    "        yield current.v\n",
    "        if current.r is not None:\n",
    "            for el in self.in_order(current=current.r):\n",
    "                yield str(el)\n",
    "                \n",
    "    def post_order(self, current=None):\n",
    "        \"\"\"Recursively traverse elements, in the order\n",
    "        left --> right --> root\n",
    "        \"\"\"\n",
    "        if current is None:\n",
    "            current = self.root\n",
    "        if current.l is not None:\n",
    "            for el in self.post_order(current=current.l):\n",
    "                yield el\n",
    "        if current.r is not None:\n",
    "            for el in self.post_order(current=current.r):\n",
    "                yield el\n",
    "        yield current.v\n",
    "        \n",
    "    def BFS(self, current=None):\n",
    "        \"\"\"Traverse the nodes in breath-first order.\n",
    "        \n",
    "        Uses a queue to store future nodes to traverse.\n",
    "        \n",
    "        Elements will display ordered first by generation, \n",
    "        and then from left to right\n",
    "        \"\"\"\n",
    "        if current is None:\n",
    "            current = self.root\n",
    "        Q = q(current)\n",
    "        while Q.first is not None:\n",
    "            current = Q.deq()\n",
    "            for child in [current.l, current.r]:\n",
    "                if child is not None:\n",
    "                    Q.enq(child)\n",
    "            yield current.v\n",
    "            \n",
    "    def DFS(self, current=None):\n",
    "        \"\"\"Traverse the nodes in depth-first order.\n",
    "        \n",
    "        Uses a stack to store future nodes to traverse.\n",
    "        \n",
    "        Elements will displayed in order for a binary search tree.\n",
    "        \n",
    "        Should give the same result as pre-order traversal.\n",
    "        \"\"\"\n",
    "        if current is None:\n",
    "            current = self.root\n",
    "        S = [current]\n",
    "        while S:\n",
    "            current = S.pop()\n",
    "            yield current.v\n",
    "            for child in [current.r, current.l]:\n",
    "                if child is not None:\n",
    "                    S.append(child)"
   ]
  },
  {
   "cell_type": "code",
   "execution_count": 70,
   "metadata": {
    "collapsed": true
   },
   "outputs": [],
   "source": [
    "#################### Example ####################\n",
    "\n",
    "## Create the tree and add some elements in arbitrary order\n",
    "T = tree()\n",
    "for el in [4,5,7,6,3,2,1]:\n",
    "    T.insert(el)"
   ]
  },
  {
   "cell_type": "code",
   "execution_count": 71,
   "metadata": {
    "collapsed": true
   },
   "outputs": [],
   "source": [
    "## Print the tree elements in pre order, in order, and post order"
   ]
  },
  {
   "cell_type": "code",
   "execution_count": 72,
   "metadata": {
    "collapsed": false
   },
   "outputs": [
    {
     "name": "stdout",
     "output_type": "stream",
     "text": [
      "4\n",
      "3\n",
      "2\n",
      "1\n",
      "5\n",
      "7\n",
      "6\n"
     ]
    }
   ],
   "source": [
    "for el in T.pre_order():\n",
    "    print el"
   ]
  },
  {
   "cell_type": "code",
   "execution_count": 73,
   "metadata": {
    "collapsed": false
   },
   "outputs": [
    {
     "name": "stdout",
     "output_type": "stream",
     "text": [
      "1\n",
      "2\n",
      "3\n",
      "4\n",
      "5\n",
      "6\n",
      "7\n"
     ]
    }
   ],
   "source": [
    "for el in T.in_order():\n",
    "    print el"
   ]
  },
  {
   "cell_type": "code",
   "execution_count": 74,
   "metadata": {
    "collapsed": false
   },
   "outputs": [
    {
     "name": "stdout",
     "output_type": "stream",
     "text": [
      "1\n",
      "2\n",
      "3\n",
      "6\n",
      "7\n",
      "5\n",
      "4\n"
     ]
    }
   ],
   "source": [
    "for el in T.post_order():\n",
    "    print el"
   ]
  },
  {
   "cell_type": "code",
   "execution_count": 75,
   "metadata": {
    "collapsed": true
   },
   "outputs": [],
   "source": [
    "## BFS order"
   ]
  },
  {
   "cell_type": "code",
   "execution_count": 76,
   "metadata": {
    "collapsed": false
   },
   "outputs": [
    {
     "name": "stdout",
     "output_type": "stream",
     "text": [
      "4\n",
      "3\n",
      "5\n",
      "2\n",
      "7\n",
      "1\n",
      "6\n"
     ]
    }
   ],
   "source": [
    "for el in T.BFS():\n",
    "    print el"
   ]
  },
  {
   "cell_type": "code",
   "execution_count": 77,
   "metadata": {
    "collapsed": true
   },
   "outputs": [],
   "source": [
    "## DFS order (i.e. same as pre-order)"
   ]
  },
  {
   "cell_type": "code",
   "execution_count": 78,
   "metadata": {
    "collapsed": false,
    "scrolled": true
   },
   "outputs": [
    {
     "name": "stdout",
     "output_type": "stream",
     "text": [
      "4\n",
      "3\n",
      "2\n",
      "1\n",
      "5\n",
      "7\n",
      "6\n"
     ]
    }
   ],
   "source": [
    "for el in T.DFS():\n",
    "    print el"
   ]
  },
  {
   "cell_type": "code",
   "execution_count": 79,
   "metadata": {
    "collapsed": true
   },
   "outputs": [],
   "source": [
    "## Deleteing elements"
   ]
  },
  {
   "cell_type": "code",
   "execution_count": 80,
   "metadata": {
    "collapsed": false
   },
   "outputs": [],
   "source": [
    "T.delete(5)\n",
    "T.delete(2)"
   ]
  },
  {
   "cell_type": "code",
   "execution_count": 81,
   "metadata": {
    "collapsed": false
   },
   "outputs": [
    {
     "name": "stdout",
     "output_type": "stream",
     "text": [
      "1\n",
      "3\n",
      "4\n",
      "6\n",
      "7\n"
     ]
    }
   ],
   "source": [
    "for el in T.in_order():\n",
    "    print el"
   ]
  },
  {
   "cell_type": "code",
   "execution_count": null,
   "metadata": {
    "collapsed": true
   },
   "outputs": [],
   "source": []
  },
  {
   "cell_type": "code",
   "execution_count": null,
   "metadata": {
    "collapsed": true
   },
   "outputs": [],
   "source": []
  },
  {
   "cell_type": "code",
   "execution_count": null,
   "metadata": {
    "collapsed": true
   },
   "outputs": [],
   "source": []
  },
  {
   "cell_type": "code",
   "execution_count": null,
   "metadata": {
    "collapsed": true
   },
   "outputs": [],
   "source": []
  },
  {
   "cell_type": "code",
   "execution_count": null,
   "metadata": {
    "collapsed": true
   },
   "outputs": [],
   "source": []
  },
  {
   "cell_type": "code",
   "execution_count": null,
   "metadata": {
    "collapsed": true
   },
   "outputs": [],
   "source": []
  }
 ],
 "metadata": {
  "kernelspec": {
   "display_name": "Python 2",
   "language": "python",
   "name": "python2"
  },
  "language_info": {
   "codemirror_mode": {
    "name": "ipython",
    "version": 2
   },
   "file_extension": ".py",
   "mimetype": "text/x-python",
   "name": "python",
   "nbconvert_exporter": "python",
   "pygments_lexer": "ipython2",
   "version": "2.7.12"
  },
  "widgets": {
   "state": {},
   "version": "1.1.2"
  }
 },
 "nbformat": 4,
 "nbformat_minor": 0
}
