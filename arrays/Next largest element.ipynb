{
 "cells": [
  {
   "cell_type": "markdown",
   "metadata": {},
   "source": [
    "# Next largest element\n",
    "\n",
    "Given an array A [ ] having distinct elements, the task is to find the next greater element for each element of the array in order of their appearance in the array. If no such element exists, output -1 \n",
    "\n",
    "Using https://www.geeksforgeeks.org/next-greater-element/"
   ]
  },
  {
   "cell_type": "code",
   "execution_count": 59,
   "metadata": {
    "collapsed": true
   },
   "outputs": [],
   "source": [
    "#Example:\n",
    "\n",
    "#input\n",
    "A = [1,3,2,4]\n",
    "\n",
    "#output\n",
    "out = [3,4,4,-1]"
   ]
  },
  {
   "cell_type": "markdown",
   "metadata": {},
   "source": [
    "## Solution 1: First solution\n",
    "\n",
    "iterate through the array $A$, using the index $i$. For each $i$, we find the index of the next-largest element $j$ (if it exists). To find $j$, we can scan starting at $i+1$ until $j$ is either outside the bounds of $A$ (in which case we know it doesn't exist), or we stop at some $j>i$ for which $A[j] \\ge A[i]$.\n",
    "\n",
    "Next, if $j$ was increased until $len(A) == j$, then we know the element at $i$ had no next largest element, so we append $-1$ to the output array. Otherwise, we have $j < len(A)$ and we know that $A[j]$ is the next largest element after $A[i]$, so we append $A[j]$ to the output.\n",
    "\n",
    "### Runtime analysis:\n",
    "\n",
    "We iterate over $n$ different values of $i$. For each $i$, we have to iterate over the $j$ indices from $i+1$ until potentially the end of $A$. On average for large $n$ there will be about $n/2$ values of $j$ to iterate over, so we find the complexity is $O(n^2)$."
   ]
  },
  {
   "cell_type": "code",
   "execution_count": 56,
   "metadata": {
    "collapsed": true
   },
   "outputs": [],
   "source": [
    "def next_largest_element(A):\n",
    "    output = []\n",
    "    for i in range(len(A)):\n",
    "        j = i+1\n",
    "        while j < len(A) and A[i] > A[j]:\n",
    "            j += 1\n",
    "        if j == len(A):\n",
    "            output.append(-1)\n",
    "            j = i+1\n",
    "        else:\n",
    "            output.append(A[j])\n",
    "    return output"
   ]
  },
  {
   "cell_type": "markdown",
   "metadata": {},
   "source": [
    "## Solution 2: more efficient (but more complicated than necessary, see solution 3)\n",
    "\n",
    "The idea here is closely related to dynamic programming. For an array $A_n$ of length $n$, we suppose we know the next-greatest-element array for the sub-array $A_{n-1} = A_n[0:n-1]$ of length $n-1$ (i.e. truncating the last element). Then, we add the last element and update the next-greatest-element array. The only elements that have to be updated are the ones with previously unassigned next-greatest element, i.e. those that would have been labled $-1$ in $A_{n-1}$. This is because if an element as a next-greatest element in $A_{n-1}$, that next-greatest element doesn't change when we append an additional element, resulting in $A_n$.\n",
    "\n",
    "Thus we can maintain a data structure of elements with currently unassigned next-greatest element. We would assign them a next-greatest element whenever a new element introduced is greater then they are. If we also organize the unassigned elements by size, we can efficiently find out which ones need to be assigned at each step. For example, below I use a heap to do this.\n",
    "\n",
    "### Runtime:\n",
    "Each element in $A$ may have to get pushed/popped to the heap, but no more than once. Each of these operations takes $O(log(k))$ where $k$ is the number of elements in the heap. In the worst case the heap may grow to a similar size as $n$, so the complexity of this algorithm is $O(n log(n))$."
   ]
  },
  {
   "cell_type": "code",
   "execution_count": 89,
   "metadata": {
    "collapsed": true
   },
   "outputs": [],
   "source": [
    "import heapq"
   ]
  },
  {
   "cell_type": "code",
   "execution_count": 90,
   "metadata": {
    "collapsed": true
   },
   "outputs": [],
   "source": [
    "def next_largest_element(A):\n",
    "    unassigned = [0] ## unassigned indices, organized as a heap\n",
    "    \n",
    "    ## D maps indices of A to next-greatest element or -1.\n",
    "    ## Initialize D to what it should be when the array has a single character\n",
    "    D = {0: -1} \n",
    "    \n",
    "    ## Iterate starting at 1 because we already initialized D for the case when len(A) == 1.\n",
    "    for i in range(1, len(A)):\n",
    "        ## When the smallest unassigned element is smaller than the next element A[i],\n",
    "        ## remove (pop) that smallest element, and assign its proper value.\n",
    "        while len(unassigned) > 0 and A[unassigned[0]]<A[i]: \n",
    "            smallest = heapq.heappop(unassigned) \n",
    "            D[smallest] = A[i]\n",
    "        ## the newly added element is last, so it has unassigned next-greatest element.\n",
    "        heapq.heappush(unassigned, i) \n",
    "    for i in unassigned:\n",
    "        D[i] = -1\n",
    "    return [D[i] for i in range(len(A))]"
   ]
  },
  {
   "cell_type": "code",
   "execution_count": 91,
   "metadata": {
    "collapsed": false
   },
   "outputs": [
    {
     "data": {
      "text/plain": [
       "[3, 4, 4, -1]"
      ]
     },
     "execution_count": 91,
     "metadata": {},
     "output_type": "execute_result"
    }
   ],
   "source": [
    "next_largest_element(A)"
   ]
  },
  {
   "cell_type": "markdown",
   "metadata": {},
   "source": [
    "## Solution 3: No need for the heap\n",
    "\n",
    "Before we add an element to the `unassigned' data structure, we removed all smaller elements. Therefore this data structure remains sorted (the last element being smallest), and there is no need for the heap!\n",
    "\n",
    "### Runtime\n",
    "Each element is added or popped from the unassigned list at most once. Thus the runtime is linear $(O(n))$."
   ]
  },
  {
   "cell_type": "code",
   "execution_count": 96,
   "metadata": {
    "collapsed": true
   },
   "outputs": [],
   "source": [
    "def next_largest_element(A):\n",
    "    unassigned = [0]\n",
    "    D = {0: -1}\n",
    "    for i in range(1, len(A)):\n",
    "        while len(unassigned) > 0 and A[unassigned[0]] < A[i]: \n",
    "            smallest = unassigned.pop()\n",
    "            D[smallest] = A[i]\n",
    "        unassigned.append(i)\n",
    "    for i in unassigned:\n",
    "        D[i] = -1\n",
    "    return [D[i] for i in range(len(A))]"
   ]
  },
  {
   "cell_type": "code",
   "execution_count": 97,
   "metadata": {
    "collapsed": false
   },
   "outputs": [
    {
     "data": {
      "text/plain": [
       "[3, 4, 4, -1]"
      ]
     },
     "execution_count": 97,
     "metadata": {},
     "output_type": "execute_result"
    }
   ],
   "source": [
    "next_largest_element(A)"
   ]
  },
  {
   "cell_type": "code",
   "execution_count": null,
   "metadata": {
    "collapsed": true
   },
   "outputs": [],
   "source": []
  }
 ],
 "metadata": {
  "kernelspec": {
   "display_name": "Python 2",
   "language": "python",
   "name": "python2"
  },
  "language_info": {
   "codemirror_mode": {
    "name": "ipython",
    "version": 2
   },
   "file_extension": ".py",
   "mimetype": "text/x-python",
   "name": "python",
   "nbconvert_exporter": "python",
   "pygments_lexer": "ipython2",
   "version": "2.7.12"
  },
  "widgets": {
   "state": {},
   "version": "1.1.2"
  }
 },
 "nbformat": 4,
 "nbformat_minor": 0
}
