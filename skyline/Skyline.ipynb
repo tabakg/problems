{
 "cells": [
  {
   "cell_type": "markdown",
   "metadata": {},
   "source": [
    "## Problem\n",
    "\n",
    "You are given a list of buildings. Each building is a rectangle with a starting and ending $x$-coordinate, and a height. Your task is to calculate the skyline: This should be a list of tuples, where the first coordinate indicates the $x$-coordinate of a new height in the skyline, and the second coordinate indicates the maximum height of all buildings starting at that $x$-coordinate and ending in the next $x$-coordinate. Make sure to include as the last tuple the end location of the skyline, i.e. a tuple whose second coordinate is $0$."
   ]
  },
  {
   "cell_type": "code",
   "execution_count": 8,
   "metadata": {
    "collapsed": true
   },
   "outputs": [],
   "source": [
    "class building:\n",
    "    def __init__(self, x1, x2, h):\n",
    "        self.x1 = x1\n",
    "        self.x2 = x2\n",
    "        self.h = h"
   ]
  },
  {
   "cell_type": "code",
   "execution_count": 10,
   "metadata": {
    "collapsed": true
   },
   "outputs": [],
   "source": [
    "## Example:\n",
    "Input = [building(0,4,1), building(3,5,2)]\n",
    "\n",
    "Output = [(0,1), ## first building starts\n",
    "          (3,2), ## second building starts, is taller than first\n",
    "          (5,0)  ## end of second building\n",
    "         ] "
   ]
  },
  {
   "cell_type": "markdown",
   "metadata": {},
   "source": [
    "## Solution\n",
    "\n",
    "The idea is to know how to make a skyline out of a single building, and then merge skylines for groups of buildings. For each skyline, we keep the list of tuples sorted by the $x$-coordinates. To efficiently merge skylines, we iterate over the two given skylines together, at each step incrementing the index for the one with the smallest $x$-coordinate. In this way we obtain the heights for each skyline, sorted by the $x$-coordinates. \n",
    "\n",
    "We keep track of the current height of each skyline. This is updated when we encounter a new tuple belonging to each of the two skylines. We can find out if the next tuple came from the first or second skyline by comparing $x1$ and $x2$. For example, if $x1 < x2$ it came from the first skyline. We update the current height, and then compare it with the current height of the other skyline. We only need to add a new tuple in the new skyline when the new tuple has greater height than the other skyline, because otherwise the other skyline is taller anyway. Finally, we remember to increment either $i$ or $j$ depending on which skyline gave the last tuple.\n",
    "\n",
    "After we exhaust one of the two skylines, we must add the remaining tuples from the other skyline. This is done by checking $i$ and $j$ with the lengths of their respective skylines."
   ]
  },
  {
   "cell_type": "code",
   "execution_count": 54,
   "metadata": {
    "collapsed": true
   },
   "outputs": [],
   "source": [
    "def merge(s1, s2):\n",
    "    \"\"\"Merge two skylines.\n",
    "    \"\"\"\n",
    "    i = 0 # tuple index for s1\n",
    "    j = 0 # tuple index for s2\n",
    "    current_height_1 = 0\n",
    "    current_height_2 = 0\n",
    "    new_s = []\n",
    "    while i < len(s1) and j < len(s2):\n",
    "        x1, h1 = s1[i]\n",
    "        x2, h2 = s2[j]\n",
    "        if x1 < x2:\n",
    "            current_height_1 = h1\n",
    "            if current_height_1 > current_height_2:\n",
    "                new_s.append((x1, current_height_1))\n",
    "            i += 1\n",
    "        else:\n",
    "            current_height_2 = h2\n",
    "            if current_height_2 > current_height_1:\n",
    "                new_s.append((x2, current_height_2))\n",
    "            j += 1\n",
    "    if i == len(s1):\n",
    "        new_s += s2[j:]\n",
    "    if j == len(s2):\n",
    "        new_s += s1[i:]\n",
    "    return new_s\n",
    "\n",
    "def find_skyline(buildings):\n",
    "    if len(buildings) == 0:\n",
    "        return []\n",
    "    elif len(buildings) == 1:\n",
    "        b = buildings[0]\n",
    "        return [(b.x1, b.h), (b.x2, 0)]\n",
    "    else:\n",
    "        n = len(buildings)\n",
    "        skyline_1 = find_skyline(buildings[:n//2])\n",
    "        skyline_2 = find_skyline(buildings[n//2:])\n",
    "        return merge(skyline_1, skyline_2)"
   ]
  },
  {
   "cell_type": "code",
   "execution_count": 55,
   "metadata": {
    "collapsed": false
   },
   "outputs": [
    {
     "data": {
      "text/plain": [
       "[(0, 1), (3, 2), (5, 0)]"
      ]
     },
     "execution_count": 55,
     "metadata": {},
     "output_type": "execute_result"
    }
   ],
   "source": [
    "find_skyline(Input)"
   ]
  },
  {
   "cell_type": "code",
   "execution_count": null,
   "metadata": {
    "collapsed": true
   },
   "outputs": [],
   "source": []
  }
 ],
 "metadata": {
  "kernelspec": {
   "display_name": "Python 2",
   "language": "python",
   "name": "python2"
  },
  "language_info": {
   "codemirror_mode": {
    "name": "ipython",
    "version": 2
   },
   "file_extension": ".py",
   "mimetype": "text/x-python",
   "name": "python",
   "nbconvert_exporter": "python",
   "pygments_lexer": "ipython2",
   "version": "2.7.12"
  },
  "widgets": {
   "state": {},
   "version": "1.1.2"
  }
 },
 "nbformat": 4,
 "nbformat_minor": 0
}
